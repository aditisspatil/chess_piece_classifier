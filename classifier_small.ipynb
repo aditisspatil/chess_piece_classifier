{
  "nbformat": 4,
  "nbformat_minor": 0,
  "metadata": {
    "colab": {
      "name": "classifier_small.ipynb",
      "provenance": [],
      "collapsed_sections": [],
      "mount_file_id": "1tGMIIjsGmWT6nwInfuMzs8Gd-LVS4hqL",
      "authorship_tag": "ABX9TyPn34GWwPzXtDnT9drdlvME",
      "include_colab_link": true
    },
    "kernelspec": {
      "name": "python3",
      "display_name": "Python 3"
    },
    "accelerator": "GPU",
    "widgets": {
      "application/vnd.jupyter.widget-state+json": {
        "27b48a59da5d4c89bcd940d6b6bc9c69": {
          "model_module": "@jupyter-widgets/controls",
          "model_name": "HBoxModel",
          "state": {
            "_view_name": "HBoxView",
            "_dom_classes": [],
            "_model_name": "HBoxModel",
            "_view_module": "@jupyter-widgets/controls",
            "_model_module_version": "1.5.0",
            "_view_count": null,
            "_view_module_version": "1.5.0",
            "box_style": "",
            "layout": "IPY_MODEL_ff6da8ca209d425489c2018c5440d6a2",
            "_model_module": "@jupyter-widgets/controls",
            "children": [
              "IPY_MODEL_7711deca644146bd9a299707a0a15043",
              "IPY_MODEL_b1f7ed75df044e7eace88a59e76c207a"
            ]
          }
        },
        "ff6da8ca209d425489c2018c5440d6a2": {
          "model_module": "@jupyter-widgets/base",
          "model_name": "LayoutModel",
          "state": {
            "_view_name": "LayoutView",
            "grid_template_rows": null,
            "right": null,
            "justify_content": null,
            "_view_module": "@jupyter-widgets/base",
            "overflow": null,
            "_model_module_version": "1.2.0",
            "_view_count": null,
            "flex_flow": null,
            "width": null,
            "min_width": null,
            "border": null,
            "align_items": null,
            "bottom": null,
            "_model_module": "@jupyter-widgets/base",
            "top": null,
            "grid_column": null,
            "overflow_y": null,
            "overflow_x": null,
            "grid_auto_flow": null,
            "grid_area": null,
            "grid_template_columns": null,
            "flex": null,
            "_model_name": "LayoutModel",
            "justify_items": null,
            "grid_row": null,
            "max_height": null,
            "align_content": null,
            "visibility": null,
            "align_self": null,
            "height": null,
            "min_height": null,
            "padding": null,
            "grid_auto_rows": null,
            "grid_gap": null,
            "max_width": null,
            "order": null,
            "_view_module_version": "1.2.0",
            "grid_template_areas": null,
            "object_position": null,
            "object_fit": null,
            "grid_auto_columns": null,
            "margin": null,
            "display": null,
            "left": null
          }
        },
        "7711deca644146bd9a299707a0a15043": {
          "model_module": "@jupyter-widgets/controls",
          "model_name": "FloatProgressModel",
          "state": {
            "_view_name": "ProgressView",
            "style": "IPY_MODEL_80d77678c7a649218cbde29b3fe340b5",
            "_dom_classes": [],
            "description": "100%",
            "_model_name": "FloatProgressModel",
            "bar_style": "success",
            "max": 102502400,
            "_view_module": "@jupyter-widgets/controls",
            "_model_module_version": "1.5.0",
            "value": 102502400,
            "_view_count": null,
            "_view_module_version": "1.5.0",
            "orientation": "horizontal",
            "min": 0,
            "description_tooltip": null,
            "_model_module": "@jupyter-widgets/controls",
            "layout": "IPY_MODEL_129e86bcf5ae44b2ad32f4327017932f"
          }
        },
        "b1f7ed75df044e7eace88a59e76c207a": {
          "model_module": "@jupyter-widgets/controls",
          "model_name": "HTMLModel",
          "state": {
            "_view_name": "HTMLView",
            "style": "IPY_MODEL_a8a74691f56048ec928c30bc4ffbd27d",
            "_dom_classes": [],
            "description": "",
            "_model_name": "HTMLModel",
            "placeholder": "​",
            "_view_module": "@jupyter-widgets/controls",
            "_model_module_version": "1.5.0",
            "value": " 97.8M/97.8M [10:26&lt;00:00, 164kB/s]",
            "_view_count": null,
            "_view_module_version": "1.5.0",
            "description_tooltip": null,
            "_model_module": "@jupyter-widgets/controls",
            "layout": "IPY_MODEL_aee42397c7f745e88a8bb3007edde029"
          }
        },
        "80d77678c7a649218cbde29b3fe340b5": {
          "model_module": "@jupyter-widgets/controls",
          "model_name": "ProgressStyleModel",
          "state": {
            "_view_name": "StyleView",
            "_model_name": "ProgressStyleModel",
            "description_width": "initial",
            "_view_module": "@jupyter-widgets/base",
            "_model_module_version": "1.5.0",
            "_view_count": null,
            "_view_module_version": "1.2.0",
            "bar_color": null,
            "_model_module": "@jupyter-widgets/controls"
          }
        },
        "129e86bcf5ae44b2ad32f4327017932f": {
          "model_module": "@jupyter-widgets/base",
          "model_name": "LayoutModel",
          "state": {
            "_view_name": "LayoutView",
            "grid_template_rows": null,
            "right": null,
            "justify_content": null,
            "_view_module": "@jupyter-widgets/base",
            "overflow": null,
            "_model_module_version": "1.2.0",
            "_view_count": null,
            "flex_flow": null,
            "width": null,
            "min_width": null,
            "border": null,
            "align_items": null,
            "bottom": null,
            "_model_module": "@jupyter-widgets/base",
            "top": null,
            "grid_column": null,
            "overflow_y": null,
            "overflow_x": null,
            "grid_auto_flow": null,
            "grid_area": null,
            "grid_template_columns": null,
            "flex": null,
            "_model_name": "LayoutModel",
            "justify_items": null,
            "grid_row": null,
            "max_height": null,
            "align_content": null,
            "visibility": null,
            "align_self": null,
            "height": null,
            "min_height": null,
            "padding": null,
            "grid_auto_rows": null,
            "grid_gap": null,
            "max_width": null,
            "order": null,
            "_view_module_version": "1.2.0",
            "grid_template_areas": null,
            "object_position": null,
            "object_fit": null,
            "grid_auto_columns": null,
            "margin": null,
            "display": null,
            "left": null
          }
        },
        "a8a74691f56048ec928c30bc4ffbd27d": {
          "model_module": "@jupyter-widgets/controls",
          "model_name": "DescriptionStyleModel",
          "state": {
            "_view_name": "StyleView",
            "_model_name": "DescriptionStyleModel",
            "description_width": "",
            "_view_module": "@jupyter-widgets/base",
            "_model_module_version": "1.5.0",
            "_view_count": null,
            "_view_module_version": "1.2.0",
            "_model_module": "@jupyter-widgets/controls"
          }
        },
        "aee42397c7f745e88a8bb3007edde029": {
          "model_module": "@jupyter-widgets/base",
          "model_name": "LayoutModel",
          "state": {
            "_view_name": "LayoutView",
            "grid_template_rows": null,
            "right": null,
            "justify_content": null,
            "_view_module": "@jupyter-widgets/base",
            "overflow": null,
            "_model_module_version": "1.2.0",
            "_view_count": null,
            "flex_flow": null,
            "width": null,
            "min_width": null,
            "border": null,
            "align_items": null,
            "bottom": null,
            "_model_module": "@jupyter-widgets/base",
            "top": null,
            "grid_column": null,
            "overflow_y": null,
            "overflow_x": null,
            "grid_auto_flow": null,
            "grid_area": null,
            "grid_template_columns": null,
            "flex": null,
            "_model_name": "LayoutModel",
            "justify_items": null,
            "grid_row": null,
            "max_height": null,
            "align_content": null,
            "visibility": null,
            "align_self": null,
            "height": null,
            "min_height": null,
            "padding": null,
            "grid_auto_rows": null,
            "grid_gap": null,
            "max_width": null,
            "order": null,
            "_view_module_version": "1.2.0",
            "grid_template_areas": null,
            "object_position": null,
            "object_fit": null,
            "grid_auto_columns": null,
            "margin": null,
            "display": null,
            "left": null
          }
        }
      }
    }
  },
  "cells": [
    {
      "cell_type": "markdown",
      "metadata": {
        "id": "view-in-github",
        "colab_type": "text"
      },
      "source": [
        "<a href=\"https://colab.research.google.com/github/aditisspatil/chess_piece_classifier/blob/master/classifier_small.ipynb\" target=\"_parent\"><img src=\"https://colab.research.google.com/assets/colab-badge.svg\" alt=\"Open In Colab\"/></a>"
      ]
    },
    {
      "cell_type": "markdown",
      "metadata": {
        "id": "O_EKgf36cMHv"
      },
      "source": [
        "**Chess Piece image classifier**"
      ]
    },
    {
      "cell_type": "code",
      "metadata": {
        "id": "IfmuxJIIXF3s",
        "outputId": "7d0f6a81-77b0-4323-db24-d916215981cd",
        "colab": {
          "base_uri": "https://localhost:8080/",
          "height": 50
        }
      },
      "source": [
        "## make sure fastai is up to date \n",
        "!curl -s https://course.fast.ai/setup/colab | bash"
      ],
      "execution_count": 1,
      "outputs": [
        {
          "output_type": "stream",
          "text": [
            "bash: line 1: syntax error near unexpected token `newline'\n",
            "bash: line 1: `<!DOCTYPE html>'\n"
          ],
          "name": "stdout"
        }
      ]
    },
    {
      "cell_type": "code",
      "metadata": {
        "id": "YS507YThXhf5"
      },
      "source": [
        "## read in standard data science libs\n",
        "import matplotlib.pyplot as plt\n",
        "\n",
        "## import google drive package\n",
        "from  google.colab import drive\n",
        "\n",
        "## import the fastai library\n",
        "from fastai.vision import *"
      ],
      "execution_count": 2,
      "outputs": []
    },
    {
      "cell_type": "code",
      "metadata": {
        "id": "C20EwKF9XyDk",
        "outputId": "7fc95547-8c33-4f17-d1f2-3241d50fa330",
        "colab": {
          "base_uri": "https://localhost:8080/",
          "height": 34
        }
      },
      "source": [
        "## connect workbook to google drive folder to access images \n",
        "drive.mount('/content/drive')"
      ],
      "execution_count": 5,
      "outputs": [
        {
          "output_type": "stream",
          "text": [
            "Drive already mounted at /content/drive; to attempt to forcibly remount, call drive.mount(\"/content/drive\", force_remount=True).\n"
          ],
          "name": "stdout"
        }
      ]
    },
    {
      "cell_type": "code",
      "metadata": {
        "id": "KQgsMRzZXyGd"
      },
      "source": [
        "## save path to project folder \n",
        "root_path = '/content/drive/My Drive/ChessProject'"
      ],
      "execution_count": 6,
      "outputs": []
    },
    {
      "cell_type": "code",
      "metadata": {
        "id": "D_yUVQuRXyIx"
      },
      "source": [
        "## save path for pieces folder that contains images \n",
        "proj_path = 'drive/My Drive/ChessProject/Classifier/Pieces'"
      ],
      "execution_count": 7,
      "outputs": []
    },
    {
      "cell_type": "code",
      "metadata": {
        "id": "xGUUvrc5XyQL"
      },
      "source": [
        "## save fastai path \n",
        "p_path = Path(proj_path)"
      ],
      "execution_count": 9,
      "outputs": []
    },
    {
      "cell_type": "code",
      "metadata": {
        "id": "OGnjkWmaXyTd"
      },
      "source": [
        "## create image data bunch with 80/20 train test split \n",
        "np.random.seed(42)\n",
        "data = ImageDataBunch.from_folder(p_path, train=\".\", valid_pct=0.2,\n",
        "        ds_tfms=get_transforms(), size=200, num_workers=4).normalize(imagenet_stats)"
      ],
      "execution_count": 10,
      "outputs": []
    },
    {
      "cell_type": "code",
      "metadata": {
        "id": "SbqUfEZ7xyyW",
        "outputId": "ffb5ad96-1447-4555-8beb-38759a188ed2",
        "colab": {
          "base_uri": "https://localhost:8080/",
          "height": 34
        }
      },
      "source": [
        "data.classes"
      ],
      "execution_count": 11,
      "outputs": [
        {
          "output_type": "execute_result",
          "data": {
            "text/plain": [
              "['bishop', 'king', 'knight', 'pawn', 'queen', 'rook']"
            ]
          },
          "metadata": {
            "tags": []
          },
          "execution_count": 11
        }
      ]
    },
    {
      "cell_type": "code",
      "metadata": {
        "id": "SRwTYhx0xy7y"
      },
      "source": [
        "## show sample of images \n",
        "# data.show_batch(rows=3,figsize=(7,8))"
      ],
      "execution_count": null,
      "outputs": []
    },
    {
      "cell_type": "code",
      "metadata": {
        "id": "cRCLSG7Exy-O",
        "outputId": "3a9f71d3-e407-416b-f49f-2cdbdca43f40",
        "colab": {
          "base_uri": "https://localhost:8080/",
          "height": 34
        }
      },
      "source": [
        "data.classes, data.c, len(data.train_ds), len(data.valid_ds)"
      ],
      "execution_count": 13,
      "outputs": [
        {
          "output_type": "execute_result",
          "data": {
            "text/plain": [
              "(['bishop', 'king', 'knight', 'pawn', 'queen', 'rook'], 6, 1157, 289)"
            ]
          },
          "metadata": {
            "tags": []
          },
          "execution_count": 13
        }
      ]
    },
    {
      "cell_type": "code",
      "metadata": {
        "id": "MRKB5R2QxzBk",
        "outputId": "58dc5beb-5b36-4b82-a923-4e1ec483be2b",
        "colab": {
          "base_uri": "https://localhost:8080/",
          "height": 82,
          "referenced_widgets": [
            "27b48a59da5d4c89bcd940d6b6bc9c69",
            "ff6da8ca209d425489c2018c5440d6a2",
            "7711deca644146bd9a299707a0a15043",
            "b1f7ed75df044e7eace88a59e76c207a",
            "80d77678c7a649218cbde29b3fe340b5",
            "129e86bcf5ae44b2ad32f4327017932f",
            "a8a74691f56048ec928c30bc4ffbd27d",
            "aee42397c7f745e88a8bb3007edde029"
          ]
        }
      },
      "source": [
        "## create cnn_learner object\n",
        "## use resnet 50 for transfer learning\n",
        "learn = cnn_learner(data, models.resnet50, metrics=error_rate)"
      ],
      "execution_count": 14,
      "outputs": [
        {
          "output_type": "stream",
          "text": [
            "Downloading: \"https://download.pytorch.org/models/resnet50-19c8e357.pth\" to /root/.cache/torch/hub/checkpoints/resnet50-19c8e357.pth\n"
          ],
          "name": "stderr"
        },
        {
          "output_type": "display_data",
          "data": {
            "application/vnd.jupyter.widget-view+json": {
              "model_id": "27b48a59da5d4c89bcd940d6b6bc9c69",
              "version_minor": 0,
              "version_major": 2
            },
            "text/plain": [
              "HBox(children=(FloatProgress(value=0.0, max=102502400.0), HTML(value='')))"
            ]
          },
          "metadata": {
            "tags": []
          }
        },
        {
          "output_type": "stream",
          "text": [
            "\n"
          ],
          "name": "stdout"
        }
      ]
    },
    {
      "cell_type": "code",
      "metadata": {
        "id": "DP1m2jAl0Tly",
        "outputId": "060d147f-febe-430c-acd6-252eb597cd2e",
        "colab": {
          "base_uri": "https://localhost:8080/",
          "height": 935
        }
      },
      "source": [
        "## train 30 epochs of the model \n",
        "learn.fit_one_cycle(30)"
      ],
      "execution_count": 31,
      "outputs": [
        {
          "output_type": "display_data",
          "data": {
            "text/html": [
              "<table border=\"1\" class=\"dataframe\">\n",
              "  <thead>\n",
              "    <tr style=\"text-align: left;\">\n",
              "      <th>epoch</th>\n",
              "      <th>train_loss</th>\n",
              "      <th>valid_loss</th>\n",
              "      <th>error_rate</th>\n",
              "      <th>time</th>\n",
              "    </tr>\n",
              "  </thead>\n",
              "  <tbody>\n",
              "    <tr>\n",
              "      <td>0</td>\n",
              "      <td>0.068158</td>\n",
              "      <td>0.317325</td>\n",
              "      <td>0.100346</td>\n",
              "      <td>00:13</td>\n",
              "    </tr>\n",
              "    <tr>\n",
              "      <td>1</td>\n",
              "      <td>0.060445</td>\n",
              "      <td>0.321925</td>\n",
              "      <td>0.093426</td>\n",
              "      <td>00:12</td>\n",
              "    </tr>\n",
              "    <tr>\n",
              "      <td>2</td>\n",
              "      <td>0.057282</td>\n",
              "      <td>0.316902</td>\n",
              "      <td>0.089965</td>\n",
              "      <td>00:12</td>\n",
              "    </tr>\n",
              "    <tr>\n",
              "      <td>3</td>\n",
              "      <td>0.056667</td>\n",
              "      <td>0.309709</td>\n",
              "      <td>0.096886</td>\n",
              "      <td>00:12</td>\n",
              "    </tr>\n",
              "    <tr>\n",
              "      <td>4</td>\n",
              "      <td>0.061098</td>\n",
              "      <td>0.349441</td>\n",
              "      <td>0.093426</td>\n",
              "      <td>00:12</td>\n",
              "    </tr>\n",
              "    <tr>\n",
              "      <td>5</td>\n",
              "      <td>0.071683</td>\n",
              "      <td>0.372135</td>\n",
              "      <td>0.114187</td>\n",
              "      <td>00:12</td>\n",
              "    </tr>\n",
              "    <tr>\n",
              "      <td>6</td>\n",
              "      <td>0.114490</td>\n",
              "      <td>0.478622</td>\n",
              "      <td>0.131488</td>\n",
              "      <td>00:12</td>\n",
              "    </tr>\n",
              "    <tr>\n",
              "      <td>7</td>\n",
              "      <td>0.138864</td>\n",
              "      <td>0.474020</td>\n",
              "      <td>0.117647</td>\n",
              "      <td>00:12</td>\n",
              "    </tr>\n",
              "    <tr>\n",
              "      <td>8</td>\n",
              "      <td>0.147104</td>\n",
              "      <td>0.340740</td>\n",
              "      <td>0.096886</td>\n",
              "      <td>00:12</td>\n",
              "    </tr>\n",
              "    <tr>\n",
              "      <td>9</td>\n",
              "      <td>0.131879</td>\n",
              "      <td>0.366789</td>\n",
              "      <td>0.103806</td>\n",
              "      <td>00:12</td>\n",
              "    </tr>\n",
              "    <tr>\n",
              "      <td>10</td>\n",
              "      <td>0.130383</td>\n",
              "      <td>0.348444</td>\n",
              "      <td>0.093426</td>\n",
              "      <td>00:12</td>\n",
              "    </tr>\n",
              "    <tr>\n",
              "      <td>11</td>\n",
              "      <td>0.126003</td>\n",
              "      <td>0.292554</td>\n",
              "      <td>0.076125</td>\n",
              "      <td>00:12</td>\n",
              "    </tr>\n",
              "    <tr>\n",
              "      <td>12</td>\n",
              "      <td>0.124624</td>\n",
              "      <td>0.328388</td>\n",
              "      <td>0.079585</td>\n",
              "      <td>00:12</td>\n",
              "    </tr>\n",
              "    <tr>\n",
              "      <td>13</td>\n",
              "      <td>0.115685</td>\n",
              "      <td>0.388930</td>\n",
              "      <td>0.086505</td>\n",
              "      <td>00:12</td>\n",
              "    </tr>\n",
              "    <tr>\n",
              "      <td>14</td>\n",
              "      <td>0.101113</td>\n",
              "      <td>0.343564</td>\n",
              "      <td>0.100346</td>\n",
              "      <td>00:12</td>\n",
              "    </tr>\n",
              "    <tr>\n",
              "      <td>15</td>\n",
              "      <td>0.087859</td>\n",
              "      <td>0.333451</td>\n",
              "      <td>0.086505</td>\n",
              "      <td>00:12</td>\n",
              "    </tr>\n",
              "    <tr>\n",
              "      <td>16</td>\n",
              "      <td>0.075701</td>\n",
              "      <td>0.358049</td>\n",
              "      <td>0.086505</td>\n",
              "      <td>00:12</td>\n",
              "    </tr>\n",
              "    <tr>\n",
              "      <td>17</td>\n",
              "      <td>0.066694</td>\n",
              "      <td>0.319993</td>\n",
              "      <td>0.069204</td>\n",
              "      <td>00:12</td>\n",
              "    </tr>\n",
              "    <tr>\n",
              "      <td>18</td>\n",
              "      <td>0.057647</td>\n",
              "      <td>0.305387</td>\n",
              "      <td>0.072664</td>\n",
              "      <td>00:12</td>\n",
              "    </tr>\n",
              "    <tr>\n",
              "      <td>19</td>\n",
              "      <td>0.057844</td>\n",
              "      <td>0.285505</td>\n",
              "      <td>0.079585</td>\n",
              "      <td>00:12</td>\n",
              "    </tr>\n",
              "    <tr>\n",
              "      <td>20</td>\n",
              "      <td>0.053280</td>\n",
              "      <td>0.291745</td>\n",
              "      <td>0.079585</td>\n",
              "      <td>00:12</td>\n",
              "    </tr>\n",
              "    <tr>\n",
              "      <td>21</td>\n",
              "      <td>0.048454</td>\n",
              "      <td>0.270126</td>\n",
              "      <td>0.072664</td>\n",
              "      <td>00:12</td>\n",
              "    </tr>\n",
              "    <tr>\n",
              "      <td>22</td>\n",
              "      <td>0.042043</td>\n",
              "      <td>0.256637</td>\n",
              "      <td>0.072664</td>\n",
              "      <td>00:12</td>\n",
              "    </tr>\n",
              "    <tr>\n",
              "      <td>23</td>\n",
              "      <td>0.037239</td>\n",
              "      <td>0.259162</td>\n",
              "      <td>0.072664</td>\n",
              "      <td>00:12</td>\n",
              "    </tr>\n",
              "    <tr>\n",
              "      <td>24</td>\n",
              "      <td>0.033022</td>\n",
              "      <td>0.255640</td>\n",
              "      <td>0.079585</td>\n",
              "      <td>00:12</td>\n",
              "    </tr>\n",
              "    <tr>\n",
              "      <td>25</td>\n",
              "      <td>0.030491</td>\n",
              "      <td>0.256948</td>\n",
              "      <td>0.072664</td>\n",
              "      <td>00:12</td>\n",
              "    </tr>\n",
              "    <tr>\n",
              "      <td>26</td>\n",
              "      <td>0.029147</td>\n",
              "      <td>0.253326</td>\n",
              "      <td>0.069204</td>\n",
              "      <td>00:12</td>\n",
              "    </tr>\n",
              "    <tr>\n",
              "      <td>27</td>\n",
              "      <td>0.027892</td>\n",
              "      <td>0.263106</td>\n",
              "      <td>0.069204</td>\n",
              "      <td>00:12</td>\n",
              "    </tr>\n",
              "    <tr>\n",
              "      <td>28</td>\n",
              "      <td>0.027218</td>\n",
              "      <td>0.253374</td>\n",
              "      <td>0.069204</td>\n",
              "      <td>00:12</td>\n",
              "    </tr>\n",
              "    <tr>\n",
              "      <td>29</td>\n",
              "      <td>0.023039</td>\n",
              "      <td>0.249287</td>\n",
              "      <td>0.072664</td>\n",
              "      <td>00:12</td>\n",
              "    </tr>\n",
              "  </tbody>\n",
              "</table>"
            ],
            "text/plain": [
              "<IPython.core.display.HTML object>"
            ]
          },
          "metadata": {
            "tags": []
          }
        }
      ]
    },
    {
      "cell_type": "markdown",
      "metadata": {
        "id": "pcrkakNvAghX"
      },
      "source": [
        "Best values found for epochs for Resnet50:\n",
        "\n",
        "*   epoch 20 :  0.077374  |  0.226988 |  0.055363\n",
        "*   **epoch 30 : 0.023039 |  0.249287 |\t0.072664**\n",
        "*   epoch 40 :\t0.041132  |\t 0.345383 |\t0.096886\n",
        "\n",
        "Resnet34 was not giving expected output. Resnet50 with 30 epochs was the best that I could find."
      ]
    },
    {
      "cell_type": "code",
      "metadata": {
        "id": "CzsQ4z8T0Tu6",
        "outputId": "31b8ad0b-7481-46b7-bc8e-b9f8a739f148",
        "colab": {
          "base_uri": "https://localhost:8080/",
          "height": 34
        }
      },
      "source": [
        "## save model\n",
        "learn.save('model1_50', return_path=True)\n",
        "# learn.save('model_50_bestfit', return_path=True) # 0.023039\t0.249287\t0.072664"
      ],
      "execution_count": 47,
      "outputs": [
        {
          "output_type": "execute_result",
          "data": {
            "text/plain": [
              "PosixPath('drive/My Drive/ChessProject/Classifier/Pieces/models/model_50_bestfit.pth')"
            ]
          },
          "metadata": {
            "tags": []
          },
          "execution_count": 47
        }
      ]
    },
    {
      "cell_type": "code",
      "metadata": {
        "id": "A-bcBudQ0TxU"
      },
      "source": [
        "## unfreeze model. Lets you train earlier layers. Then find optimal learning rates \n",
        "# learn.unfreeze()\n",
        "# learn.lr_find()  \n",
        "# learn.recorder.plot()"
      ],
      "execution_count": 33,
      "outputs": []
    },
    {
      "cell_type": "code",
      "metadata": {
        "id": "rYjCkNIg0T3M"
      },
      "source": [
        "## fit whole model with new learning rates \n",
        "# learn.fit_one_cycle(2, max_lr=slice(1e-06,1e-3), wd=.001)\n",
        "# learn.freeze()\n",
        "# learn.lr_find()\n",
        "# learn.recorder.plot()\n",
        "# learn.recorder.plot_losses()"
      ],
      "execution_count": 34,
      "outputs": []
    },
    {
      "cell_type": "code",
      "metadata": {
        "id": "9e3WfDkj05Dn"
      },
      "source": [
        "# learn.save('model2_50')"
      ],
      "execution_count": 35,
      "outputs": []
    },
    {
      "cell_type": "code",
      "metadata": {
        "id": "ktByrilE05GI",
        "outputId": "d748cfb0-637a-4bbe-f0b9-2906d55cb0a9",
        "colab": {
          "base_uri": "https://localhost:8080/",
          "height": 311
        }
      },
      "source": [
        "# learn.load('model_50_bestfit')\n",
        "learn.load('model_50')\n",
        "interp = ClassificationInterpretation.from_learner(learn)\n",
        "\n",
        "## plot results of model on validation set \n",
        "interp.plot_confusion_matrix()"
      ],
      "execution_count": 48,
      "outputs": [
        {
          "output_type": "display_data",
          "data": {
            "text/html": [
              ""
            ],
            "text/plain": [
              "<IPython.core.display.HTML object>"
            ]
          },
          "metadata": {
            "tags": []
          }
        },
        {
          "output_type": "display_data",
          "data": {
            "image/png": "[encoded data removed]",
            "text/plain": [
              "<Figure size 432x288 with 1 Axes>"
            ]
          },
          "metadata": {
            "tags": [],
            "needs_background": "light"
          }
        }
      ]
    },
    {
      "cell_type": "code",
      "metadata": {
        "id": "h2bWYTnt05Ip"
      },
      "source": [
        "## plot top losses (most wrong)\n",
        "interp.plot_top_losses(9, figsize=(10,10))"
      ],
      "execution_count": null,
      "outputs": []
    },
    {
      "cell_type": "markdown",
      "metadata": {
        "id": "rwJcits2KvSm"
      },
      "source": [
        "**Predicting test cases:**"
      ]
    },
    {
      "cell_type": "code",
      "metadata": {
        "id": "q_ENdGSYlM4K"
      },
      "source": [
        "import os\n",
        "import math\n",
        "import matplotlib.image as mpimg\n",
        "\n",
        "## Function to loop through all images from received folder, predict the peices and show the predictions\n",
        "def showAndPredictFromFolder(folder_name):\n",
        "  images = []\n",
        "  titles = []\n",
        "  for filename in os.listdir(Path(root_path)/folder_name):\n",
        "    p = Path(root_path)/folder_name/filename\n",
        "    img_fa = open_image(p)\n",
        "    img_mp = mpimg.imread(p)\n",
        "    pred_class,pred_idx,outputs = learn.predict(img_fa)\n",
        "    images.append(img_mp)\n",
        "    titles.append(pred_class.obj)\n",
        "\n",
        "  n_images = len(images)\n",
        "  n_col = 4\n",
        "  n_row = math.ceil(n_images/n_col)\n",
        "\n",
        "  _, axs = plt.subplots(n_row, n_col, figsize=(8, 8))\n",
        "  axs = axs.flatten()\n",
        "  for img,title, ax in zip(images, titles, axs):\n",
        "      ax.set_title(title)\n",
        "      ax.imshow(img)\n",
        "      ax.set_axis_off()\n",
        "  plt.show()\n"
      ],
      "execution_count": 38,
      "outputs": []
    },
    {
      "cell_type": "markdown",
      "metadata": {
        "id": "6mxFFpBPLmw3"
      },
      "source": [
        "\n",
        "**3D chess set from online chess site**\n",
        "\n"
      ]
    },
    {
      "cell_type": "code",
      "metadata": {
        "id": "zWDaxMCsCxvd"
      },
      "source": [
        "showAndPredictFromFolder('TestSets/test1')"
      ],
      "execution_count": null,
      "outputs": []
    },
    {
      "cell_type": "markdown",
      "metadata": {
        "id": "poF8KiOhL5Bn"
      },
      "source": [
        "**2D chess set from online chess site**"
      ]
    },
    {
      "cell_type": "code",
      "metadata": {
        "id": "_dxYj2q3CyZd"
      },
      "source": [
        "showAndPredictFromFolder('TestSets/test2')"
      ],
      "execution_count": null,
      "outputs": []
    },
    {
      "cell_type": "markdown",
      "metadata": {
        "id": "jnkmofNxMDoh"
      },
      "source": [
        "**Pawn Variations**"
      ]
    },
    {
      "cell_type": "code",
      "metadata": {
        "id": "CUtpaM4-hETy"
      },
      "source": [
        "# showAndPredictFromFolder('TestSets/test3')"
      ],
      "execution_count": 51,
      "outputs": []
    },
    {
      "cell_type": "markdown",
      "metadata": {
        "id": "ZNNenNArYbnt"
      },
      "source": [
        "**Bishop Variations**"
      ]
    },
    {
      "cell_type": "code",
      "metadata": {
        "id": "CX9Udz9ptQPt"
      },
      "source": [
        "# showAndPredictFromFolder('TestSets/test4')"
      ],
      "execution_count": 52,
      "outputs": []
    },
    {
      "cell_type": "markdown",
      "metadata": {
        "id": "7QPsH0uRYfa0"
      },
      "source": [
        "**Knight Variations**"
      ]
    },
    {
      "cell_type": "code",
      "metadata": {
        "id": "j5V8iCcytSvx"
      },
      "source": [
        "# showAndPredictFromFolder('TestSets/test5')"
      ],
      "execution_count": 53,
      "outputs": []
    },
    {
      "cell_type": "markdown",
      "metadata": {
        "id": "9VxNMe5YYh9R"
      },
      "source": [
        "**Rook Variations**"
      ]
    },
    {
      "cell_type": "code",
      "metadata": {
        "id": "dDBCmtentTiS"
      },
      "source": [
        "# showAndPredictFromFolder('TestSets/test6')"
      ],
      "execution_count": 54,
      "outputs": []
    },
    {
      "cell_type": "markdown",
      "metadata": {
        "id": "UzA0USCQYkfv"
      },
      "source": [
        "**King Variations**"
      ]
    },
    {
      "cell_type": "code",
      "metadata": {
        "id": "j614AdnJtTOf"
      },
      "source": [
        "# showAndPredictFromFolder('TestSets/test7')"
      ],
      "execution_count": 55,
      "outputs": []
    },
    {
      "cell_type": "markdown",
      "metadata": {
        "id": "1Io03-BUY1RC"
      },
      "source": [
        "**Queen Variations**"
      ]
    },
    {
      "cell_type": "code",
      "metadata": {
        "id": "mHxaYe2UtSGf"
      },
      "source": [
        "# showAndPredictFromFolder('TestSets/test8')"
      ],
      "execution_count": 56,
      "outputs": []
    }
  ]
}